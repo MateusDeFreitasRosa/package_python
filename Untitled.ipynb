{
 "cells": [
  {
   "cell_type": "code",
   "execution_count": 14,
   "id": "atmospheric-rover",
   "metadata": {},
   "outputs": [
    {
     "name": "stdout",
     "output_type": "stream",
     "text": [
      "Collecting https://github.com/MateusDeFreitasRosa/package_python\n",
      "  Downloading https://github.com/MateusDeFreitasRosa/package_python\n"
     ]
    },
    {
     "name": "stderr",
     "output_type": "stream",
     "text": [
      "  ERROR: Cannot unpack file C:\\Users\\mateu\\AppData\\Local\\Temp\\pip-unpack-lsj9fspr\\package_python (downloaded from C:\\Users\\mateu\\AppData\\Local\\Temp\\pip-req-build-cqm2w5vr, content-type: text/html; charset=utf-8); cannot detect archive format\n",
      "ERROR: Cannot determine archive format of C:\\Users\\mateu\\AppData\\Local\\Temp\\pip-req-build-cqm2w5vr\n"
     ]
    }
   ],
   "source": [
    "!pip install package_python https://github.com/MateusDeFreitasRosa/package_python"
   ]
  },
  {
   "cell_type": "code",
   "execution_count": 11,
   "id": "suspected-courage",
   "metadata": {},
   "outputs": [],
   "source": [
    "import package_python as pp"
   ]
  },
  {
   "cell_type": "code",
   "execution_count": 12,
   "id": "charming-import",
   "metadata": {},
   "outputs": [
    {
     "data": {
      "text/plain": [
       "{'iterations': 1, 'position_element': 3}"
      ]
     },
     "execution_count": 12,
     "metadata": {},
     "output_type": "execute_result"
    }
   ],
   "source": [
    "lista = [1,2,3, 4 ,5,6,7]\n",
    "pp.binary_search(4, lista)"
   ]
  },
  {
   "cell_type": "code",
   "execution_count": null,
   "id": "female-turning",
   "metadata": {},
   "outputs": [],
   "source": []
  }
 ],
 "metadata": {
  "kernelspec": {
   "display_name": "Python 3",
   "language": "python",
   "name": "python3"
  },
  "language_info": {
   "codemirror_mode": {
    "name": "ipython",
    "version": 3
   },
   "file_extension": ".py",
   "mimetype": "text/x-python",
   "name": "python",
   "nbconvert_exporter": "python",
   "pygments_lexer": "ipython3",
   "version": "3.7.7"
  }
 },
 "nbformat": 4,
 "nbformat_minor": 5
}
