{
 "cells": [
  {
   "cell_type": "code",
   "execution_count": 13,
   "id": "progressive-pencil",
   "metadata": {},
   "outputs": [
    {
     "name": "stdout",
     "output_type": "stream",
     "text": [
      "Collecting https://github.com/MateusDeFreitasRosa/package_python\n",
      "  Downloading https://github.com/MateusDeFreitasRosa/package_python\n"
     ]
    },
    {
     "name": "stderr",
     "output_type": "stream",
     "text": [
      "  ERROR: Cannot unpack file C:\\Users\\mateu\\AppData\\Local\\Temp\\pip-unpack-tb2l3ioo\\package_python (downloaded from C:\\Users\\mateu\\AppData\\Local\\Temp\\pip-req-build-ffdzmidm, content-type: text/html; charset=utf-8); cannot detect archive format\n",
      "ERROR: Cannot determine archive format of C:\\Users\\mateu\\AppData\\Local\\Temp\\pip-req-build-ffdzmidm\n"
     ]
    }
   ],
   "source": [
    "!pip install package_python https://github.com/MateusDeFreitasRosa/package_python"
   ]
  },
  {
   "cell_type": "code",
   "execution_count": 11,
   "id": "alert-aviation",
   "metadata": {},
   "outputs": [],
   "source": [
    "import package_python as pp"
   ]
  },
  {
   "cell_type": "code",
   "execution_count": 12,
   "id": "after-meaning",
   "metadata": {},
   "outputs": [
    {
     "data": {
      "text/plain": [
       "{'iterations': 1, 'position_element': 3}"
      ]
     },
     "execution_count": 12,
     "metadata": {},
     "output_type": "execute_result"
    }
   ],
   "source": [
    "lista = [1,2,3, 4 ,5,6,7]\n",
    "pp.binary_search(4, lista)"
   ]
  },
  {
   "cell_type": "code",
   "execution_count": null,
   "id": "local-democrat",
   "metadata": {},
   "outputs": [],
   "source": []
  }
 ],
 "metadata": {
  "kernelspec": {
   "display_name": "Python 3",
   "language": "python",
   "name": "python3"
  },
  "language_info": {
   "codemirror_mode": {
    "name": "ipython",
    "version": 3
   },
   "file_extension": ".py",
   "mimetype": "text/x-python",
   "name": "python",
   "nbconvert_exporter": "python",
   "pygments_lexer": "ipython3",
   "version": "3.7.7"
  }
 },
 "nbformat": 4,
 "nbformat_minor": 5
}
