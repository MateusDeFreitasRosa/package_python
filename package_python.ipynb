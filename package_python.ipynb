{
 "cells": [
  {
   "cell_type": "code",
   "execution_count": 23,
   "id": "continuing-acrylic",
   "metadata": {},
   "outputs": [],
   "source": [
    "# Binary Search\n",
    "import math\n",
    "\n",
    "def binary_search(element, list_elements):\n",
    "    list_elements = sorted(list_elements)\n",
    "    left = 0\n",
    "    right = len(list_elements)\n",
    "    itarations = 1\n",
    "    while True:\n",
    "        middle = math.floor((left+right)/2)\n",
    "        if element == list_elements[middle]:\n",
    "            return {'iterations': itarations, 'position_element': middle}\n",
    "        elif element > list_elements[middle]:\n",
    "            left = middle\n",
    "        elif element < list_elements[middle]:\n",
    "            right = middle\n",
    "            \n",
    "        if right == left:\n",
    "            return {'iterations': itarations, 'position_element': middle}\n",
    "        \n",
    "        itarations+=1"
   ]
  },
  {
   "cell_type": "code",
   "execution_count": 25,
   "id": "overhead-professor",
   "metadata": {},
   "outputs": [
    {
     "data": {
      "text/plain": [
       "{'iterations': 1, 'position_element': 3}"
      ]
     },
     "execution_count": 25,
     "metadata": {},
     "output_type": "execute_result"
    }
   ],
   "source": [
    "lista = [1,2,3, 4 ,5,6,7]\n",
    "binary_search(4, lista)"
   ]
  },
  {
   "cell_type": "code",
   "execution_count": null,
   "id": "coated-richardson",
   "metadata": {},
   "outputs": [],
   "source": []
  },
  {
   "cell_type": "code",
   "execution_count": null,
   "id": "boolean-priest",
   "metadata": {},
   "outputs": [],
   "source": []
  }
 ],
 "metadata": {
  "kernelspec": {
   "display_name": "Python 3",
   "language": "python",
   "name": "python3"
  },
  "language_info": {
   "codemirror_mode": {
    "name": "ipython",
    "version": 3
   },
   "file_extension": ".py",
   "mimetype": "text/x-python",
   "name": "python",
   "nbconvert_exporter": "python",
   "pygments_lexer": "ipython3",
   "version": "3.7.7"
  }
 },
 "nbformat": 4,
 "nbformat_minor": 5
}
