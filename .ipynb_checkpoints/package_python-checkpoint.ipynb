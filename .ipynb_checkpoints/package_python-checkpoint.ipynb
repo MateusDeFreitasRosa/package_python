{
 "cells": [
  {
   "cell_type": "code",
   "execution_count": 21,
   "id": "restricted-composer",
   "metadata": {},
   "outputs": [],
   "source": [
    "# Binary Search\n",
    "import math\n",
    "\n",
    "def binary_search(element, list_elements):\n",
    "    list_elements = sorted(list_elements)\n",
    "    left = 0\n",
    "    right = len(list_elements)\n",
    "    itarations = 1\n",
    "    while True:\n",
    "        middle = math.floor((left+right)/2)\n",
    "        if element == list_elements[middle]:\n",
    "            return {'iterations': itarations, 'position_element': middle}\n",
    "        elif element > list_elements[middle]:\n",
    "            left = middle\n",
    "        elif element < list_elements[middle]:\n",
    "            right = middle\n",
    "            \n",
    "        if right == left:\n",
    "            return {'iterations': itarations, 'position_element': middle}\n",
    "        \n",
    "        itarations+=1"
   ]
  },
  {
   "cell_type": "code",
   "execution_count": 22,
   "id": "limited-ridge",
   "metadata": {},
   "outputs": [
    {
     "ename": "UnboundLocalError",
     "evalue": "local variable 'iterations' referenced before assignment",
     "output_type": "error",
     "traceback": [
      "\u001b[1;31m---------------------------------------------------------------------------\u001b[0m",
      "\u001b[1;31mUnboundLocalError\u001b[0m                         Traceback (most recent call last)",
      "\u001b[1;32m<ipython-input-22-df05b391cfc2>\u001b[0m in \u001b[0;36m<module>\u001b[1;34m\u001b[0m\n\u001b[0;32m      1\u001b[0m \u001b[0mlista\u001b[0m \u001b[1;33m=\u001b[0m \u001b[1;33m[\u001b[0m\u001b[1;36m1\u001b[0m\u001b[1;33m,\u001b[0m\u001b[1;36m2\u001b[0m\u001b[1;33m,\u001b[0m\u001b[1;36m3\u001b[0m\u001b[1;33m,\u001b[0m \u001b[1;36m4\u001b[0m \u001b[1;33m,\u001b[0m\u001b[1;36m5\u001b[0m\u001b[1;33m,\u001b[0m\u001b[1;36m6\u001b[0m\u001b[1;33m,\u001b[0m\u001b[1;36m7\u001b[0m\u001b[1;33m]\u001b[0m\u001b[1;33m\u001b[0m\u001b[1;33m\u001b[0m\u001b[0m\n\u001b[1;32m----> 2\u001b[1;33m \u001b[0mbinary_search\u001b[0m\u001b[1;33m(\u001b[0m\u001b[1;36m3\u001b[0m\u001b[1;33m,\u001b[0m \u001b[0mlista\u001b[0m\u001b[1;33m)\u001b[0m\u001b[1;33m\u001b[0m\u001b[1;33m\u001b[0m\u001b[0m\n\u001b[0m",
      "\u001b[1;32m<ipython-input-21-2dd6270f169b>\u001b[0m in \u001b[0;36mbinary_search\u001b[1;34m(element, list_elements)\u001b[0m\n\u001b[0;32m     18\u001b[0m         \u001b[1;32mif\u001b[0m \u001b[0mright\u001b[0m \u001b[1;33m==\u001b[0m \u001b[0mleft\u001b[0m\u001b[1;33m:\u001b[0m\u001b[1;33m\u001b[0m\u001b[1;33m\u001b[0m\u001b[0m\n\u001b[0;32m     19\u001b[0m             \u001b[1;32mreturn\u001b[0m \u001b[1;33m{\u001b[0m\u001b[1;34m'iterations'\u001b[0m\u001b[1;33m:\u001b[0m \u001b[0mitarations\u001b[0m\u001b[1;33m,\u001b[0m \u001b[1;34m'position_element'\u001b[0m\u001b[1;33m:\u001b[0m \u001b[0mmiddle\u001b[0m\u001b[1;33m}\u001b[0m\u001b[1;33m\u001b[0m\u001b[1;33m\u001b[0m\u001b[0m\n\u001b[1;32m---> 20\u001b[1;33m         \u001b[0miterations\u001b[0m\u001b[1;33m+=\u001b[0m\u001b[1;36m1\u001b[0m\u001b[1;33m\u001b[0m\u001b[1;33m\u001b[0m\u001b[0m\n\u001b[0m",
      "\u001b[1;31mUnboundLocalError\u001b[0m: local variable 'iterations' referenced before assignment"
     ]
    }
   ],
   "source": [
    "lista = [1,2,3, 4 ,5,6,7]\n",
    "binary_search(3, lista)"
   ]
  },
  {
   "cell_type": "code",
   "execution_count": null,
   "id": "illegal-plant",
   "metadata": {},
   "outputs": [],
   "source": []
  },
  {
   "cell_type": "code",
   "execution_count": null,
   "id": "banner-madonna",
   "metadata": {},
   "outputs": [],
   "source": []
  }
 ],
 "metadata": {
  "kernelspec": {
   "display_name": "Python 3",
   "language": "python",
   "name": "python3"
  },
  "language_info": {
   "codemirror_mode": {
    "name": "ipython",
    "version": 3
   },
   "file_extension": ".py",
   "mimetype": "text/x-python",
   "name": "python",
   "nbconvert_exporter": "python",
   "pygments_lexer": "ipython3",
   "version": "3.7.7"
  }
 },
 "nbformat": 4,
 "nbformat_minor": 5
}
